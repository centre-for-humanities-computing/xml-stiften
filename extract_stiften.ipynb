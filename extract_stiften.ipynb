{
 "metadata": {
  "language_info": {
   "codemirror_mode": {
    "name": "ipython",
    "version": 3
   },
   "file_extension": ".py",
   "mimetype": "text/x-python",
   "name": "python",
   "nbconvert_exporter": "python",
   "pygments_lexer": "ipython3",
   "version": "3.8.6"
  },
  "orig_nbformat": 2,
  "kernelspec": {
   "name": "python386jvsc74a57bd0e4c46fe8445a692061ede6f98887384e44d28b18ecb3d080ce2c3f2376dc74d3",
   "display_name": "Python 3.8.6 64-bit ('3.8.6': pyenv)"
  },
  "metadata": {
   "interpreter": {
    "hash": "e4c46fe8445a692061ede6f98887384e44d28b18ecb3d080ce2c3f2376dc74d3"
   }
  }
 },
 "nbformat": 4,
 "nbformat_minor": 2,
 "cells": [
  {
   "source": [
    "# Creating intermediary JSON files\n",
    "\n",
    "Extract content from original XML files & store them in a more workable json format (without having to lose the metadata)\n",
    "\n",
    "```\n",
    "Usage\n",
    "-----\n",
    "-d --dataset\n",
    "    Path to stiften dataset\n",
    "\n",
    "-o --outdir\n",
    "    Path to directory to export intermediary jsons\n",
    "```"
   ],
   "cell_type": "markdown",
   "metadata": {}
  },
  {
   "cell_type": "code",
   "execution_count": null,
   "metadata": {},
   "outputs": [],
   "source": [
    "!python src/intermediary_json.py \\\n",
    "    -d \"\" \\\n",
    "    -o \"data/processed/json\""
   ]
  },
  {
   "source": [
    "# Time binning & conversions\n",
    "\n",
    "Go from intermediary json to files of desired format & length.\n",
    "Only txt format is implemented as of now.\n",
    "\n",
    "```\n",
    "Usage\n",
    "-----\n",
    "-d --dataset\n",
    "    Path to intermediary json directory\n",
    "\n",
    "-o --outdir\n",
    "    Path to directory where results are saved\n",
    "\n",
    "-f --format\n",
    "    Desired format. By default \"txt\".\n",
    "\n",
    "-t --timebin\n",
    "    Desired time bin size / temporal size of each file.\n",
    "    For example if \"M\", all articles from the same month will be concatenated \n",
    "    into a single file.\n",
    "    For a full list of options, see\n",
    "    https://pandas.pydata.org/pandas-docs/stable/user_guide/timeseries.html#offset-aliases\n",
    "\n",
    "-p --preprocessing\n",
    "    Remove numbers, special characters & single letter tokens?\n",
    "```"
   ],
   "cell_type": "markdown",
   "metadata": {}
  },
  {
   "cell_type": "code",
   "execution_count": 7,
   "metadata": {},
   "outputs": [
    {
     "output_type": "stream",
     "name": "stdout",
     "text": [
      "100%|█████████████████████████████████████████| 162/162 [02:59<00:00,  1.10s/it]\n"
     ]
    }
   ],
   "source": [
    "!python src/time_binning.py \\\n",
    "    -d \"data/processed/json/\" \\\n",
    "    -o \"data/processed/monthly_txt_preprocessed/\" \\\n",
    "    -f \"txt\" \\\n",
    "    -t \"M\" \\\n",
    "    -p True"
   ]
  }
 ]
}